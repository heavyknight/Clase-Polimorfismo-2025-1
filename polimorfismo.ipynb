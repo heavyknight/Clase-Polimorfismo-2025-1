{
 "cells": [
  {
   "cell_type": "markdown",
   "id": "30dd0f25-09fa-43c1-83b4-6d3243543b0e",
   "metadata": {},
   "source": [
    "# Polimorfismo"
   ]
  },
  {
   "cell_type": "markdown",
   "id": "5095de2b-ac00-4ab9-ac59-ac031bfe0ac2",
   "metadata": {},
   "source": [
    "### Ejemplo 1 : Caso len()"
   ]
  },
  {
   "cell_type": "code",
   "execution_count": null,
   "id": "67282e9a-9e38-4a2e-b8f5-d468dcf127d5",
   "metadata": {},
   "outputs": [],
   "source": [
    "len([1,2,3])"
   ]
  },
  {
   "cell_type": "code",
   "execution_count": null,
   "id": "67fee309-9fbd-4a6e-ba80-ef2b68e09a49",
   "metadata": {},
   "outputs": [],
   "source": [
    "len(\"Polimorfismo\")"
   ]
  },
  {
   "cell_type": "markdown",
   "id": "9d7eabfe-e96e-47d4-b8f4-a03505c90d83",
   "metadata": {},
   "source": [
    "### Ejemplo 2 : Caso max()"
   ]
  },
  {
   "cell_type": "code",
   "execution_count": null,
   "id": "10fdba7b-5d39-4946-a160-6aa184e1b49c",
   "metadata": {},
   "outputs": [],
   "source": [
    "max(1,2,3)"
   ]
  },
  {
   "cell_type": "code",
   "execution_count": null,
   "id": "f973c03d-d965-4c77-a2d5-a27b0870686d",
   "metadata": {},
   "outputs": [],
   "source": [
    "max(\"a\", \"b\", \"c\")"
   ]
  },
  {
   "cell_type": "markdown",
   "id": "92c5b633-7246-47ec-a7c7-2ec003580b26",
   "metadata": {},
   "source": [
    "### Ejemplo 3: Polimorfismo en Métodos"
   ]
  },
  {
   "cell_type": "markdown",
   "id": "67257229-d1e4-4165-a5ef-2908fefb8b18",
   "metadata": {},
   "source": [
    "Implementación de las clases Perro, Gato y Pato"
   ]
  },
  {
   "cell_type": "code",
   "execution_count": null,
   "id": "b7fc58a9-6950-44f6-85a0-8b7afd59e3e5",
   "metadata": {},
   "outputs": [],
   "source": [
    "\n",
    "class Perro:\n",
    "    def __init__(self, nombre=None):\n",
    "        self.nombre = nombre\n",
    "\n",
    "    def onomatopeya(self):\n",
    "        print(\"Guau\")\n",
    "\n",
    "class Gato:\n",
    "    def __init__(self, nombre=None):\n",
    "        self.nombre = nombre\n",
    "\n",
    "    def onomatopeya(self):\n",
    "        print(\"Miau\")\n",
    "\n",
    "class Pato:\n",
    "    def __init__(self, nombre=None):\n",
    "        self.nombre = nombre\n",
    "\n",
    "    def onomatopeya(self):\n",
    "        print(\"Cuac\")\n"
   ]
  },
  {
   "cell_type": "markdown",
   "id": "2434dda2-accf-46af-8de0-08e101aa169c",
   "metadata": {},
   "source": [
    "Ejecución del ejemplo"
   ]
  },
  {
   "cell_type": "code",
   "execution_count": null,
   "id": "08169657-e7fa-42e7-a9f9-0ec71c37ece6",
   "metadata": {},
   "outputs": [],
   "source": [
    "a = Perro()\n",
    "b = Gato()\n",
    "c = Pato()\n",
    "\n",
    "a.onomatopeya()\n",
    "b.onomatopeya()\n",
    "c.onomatopeya()"
   ]
  },
  {
   "cell_type": "markdown",
   "id": "88f52ad4-17b9-4220-a410-6ad0ca6d1d7c",
   "metadata": {},
   "source": [
    "### Ejemplo 4 : Polimorfismo en Funciones"
   ]
  },
  {
   "cell_type": "code",
   "execution_count": null,
   "id": "a73e852b-8903-46ac-8427-9ec44d7f9c60",
   "metadata": {},
   "outputs": [],
   "source": [
    "def funcion_ejm(mascota):\n",
    "    mascota.onomatopeya()\n",
    "\n",
    "\n",
    "mascotas = [Perro(), Gato(), Pato()]\n",
    "\n",
    "for m in mascotas:\n",
    "    funcion_ejm(m)"
   ]
  },
  {
   "cell_type": "markdown",
   "id": "3e3c1b23-8def-406a-8c59-b865123bb848",
   "metadata": {},
   "source": [
    "### Ejemplo 5 : Polimorfismo en Operadores, Caso +"
   ]
  },
  {
   "cell_type": "code",
   "execution_count": null,
   "id": "53c73920-66ca-4013-82c4-d2d1327f0d85",
   "metadata": {},
   "outputs": [],
   "source": [
    "# La adición aplicado a tipos numéricos\n",
    "print(1+1) \n",
    "\n",
    "# La adición aplicado a cadenas\n",
    "print(\"uno\"+\"uno\") \n",
    "\n",
    "# La adición aplicado a listas\n",
    "print([1]+[1])"
   ]
  },
  {
   "cell_type": "markdown",
   "id": "a597a81a-6c99-48b6-b148-142401f3a3f3",
   "metadata": {},
   "source": [
    "### Ejemplo 6 : Polimorfismo en Operadores, Caso Vector"
   ]
  },
  {
   "cell_type": "markdown",
   "id": "3020b0fd-664a-40c5-98d6-10929ecea603",
   "metadata": {},
   "source": [
    "Definición de la clase vector"
   ]
  },
  {
   "cell_type": "code",
   "execution_count": null,
   "id": "1484ba17-fd6d-43a6-aac9-038e1390e469",
   "metadata": {},
   "outputs": [],
   "source": [
    "class Vector:\n",
    "    def __init__(self, x, y):\n",
    "        self.x = x\n",
    "        self.y = y"
   ]
  },
  {
   "cell_type": "code",
   "execution_count": null,
   "id": "fdb4211f-8497-4edd-a91a-810051ffd887",
   "metadata": {},
   "outputs": [],
   "source": [
    "v = Vector(2,2)\n",
    "print(v)"
   ]
  },
  {
   "cell_type": "markdown",
   "id": "59c8e57e-ecbf-4f57-af76-709633c615d4",
   "metadata": {},
   "source": [
    "Preliminar: Uso de \\_\\_repr\\_\\_()"
   ]
  },
  {
   "cell_type": "code",
   "execution_count": null,
   "id": "25896cac-495e-414c-87eb-dbe87d713209",
   "metadata": {},
   "outputs": [],
   "source": [
    "class Vector:\n",
    "    def __init__(self, x, y):\n",
    "        self.x = x\n",
    "        self.y = y\n",
    "\n",
    "    def __repr__(self):\n",
    "        return f\"Vector({self.x}, {self.y})\""
   ]
  },
  {
   "cell_type": "code",
   "execution_count": null,
   "id": "92addb55-6c02-415f-a845-2673766ad07b",
   "metadata": {},
   "outputs": [],
   "source": [
    "v = Vector(2,2)\n",
    "print(v) # ¿Qué caso de polimorfismo visto en clase es esto?"
   ]
  },
  {
   "cell_type": "markdown",
   "id": "213e0429-2651-4443-bb83-c643dd2a3452",
   "metadata": {},
   "source": [
    "Implementación de + para vectores"
   ]
  },
  {
   "cell_type": "code",
   "execution_count": null,
   "id": "04a6cc34-0021-4c5c-ab45-38c206213abb",
   "metadata": {},
   "outputs": [],
   "source": [
    "class Vector:\n",
    "    def __init__(self, x, y):\n",
    "        self.x = x\n",
    "        self.y = y\n",
    "\n",
    "    def __add__(self, otro):\n",
    "        x = self.x + otro.x\n",
    "        y = self.y + otro.y\n",
    "        sum_vec = Vector(x, y)\n",
    "        return sum_vec\n",
    "\n",
    "    def __repr__(self):\n",
    "        return f\"Vector({self.x}, {self.y})\""
   ]
  },
  {
   "cell_type": "code",
   "execution_count": null,
   "id": "a0c185cb-5163-4ed2-ba4c-8095612e1017",
   "metadata": {},
   "outputs": [],
   "source": [
    "# Crear dos vectores\n",
    "v = Vector(4, 3)\n",
    "w = Vector(1, 0)\n",
    "\n",
    "# Sumar los vectores usando +\n",
    "sum_vec = v + w\n",
    "\n",
    "print(v)  # Salida: Vector(4, 6)"
   ]
  },
  {
   "cell_type": "markdown",
   "id": "cf66409b-f129-4b80-ac21-deda08618f0c",
   "metadata": {},
   "source": [
    "### Ejemplo 7 : Caso de análisis"
   ]
  },
  {
   "cell_type": "code",
   "execution_count": null,
   "id": "d70c25f5-47d2-4ab0-83f9-c6b1b3df2573",
   "metadata": {},
   "outputs": [],
   "source": [
    "class Vector:\n",
    "    def __init__(self, x, y):\n",
    "        self.x = x\n",
    "        self.y = y\n",
    "\n",
    "    def __mul__(self, otro): # ¿Qué pasaría si utilizo otro símbolo?\n",
    "        x = self.x + otro.x\n",
    "        y = self.y + otro.y\n",
    "        sum_vec = Vector(x, y)\n",
    "        return sum_vec\n",
    "\n",
    "    def __repr__(self):\n",
    "        return f\"Vector({self.x}, {self.y})\""
   ]
  },
  {
   "cell_type": "code",
   "execution_count": null,
   "id": "b3782599-bdc5-435b-9571-7bb21fef7aad",
   "metadata": {},
   "outputs": [],
   "source": [
    "# Crear dos vectores\n",
    "v = Vector(4, 3)\n",
    "w = Vector(1, 0)"
   ]
  },
  {
   "cell_type": "code",
   "execution_count": null,
   "id": "a3833de6-a564-4faf-b7be-0dfd04e8ecde",
   "metadata": {},
   "outputs": [],
   "source": [
    "# Sumar los vectores usando +\n",
    "sum_vec = v + w\n",
    "\n",
    "print(v)  # Salida: Vector(4, 6)"
   ]
  },
  {
   "cell_type": "code",
   "execution_count": null,
   "id": "473ffca8-1f88-459c-8637-2a2e5be6afb4",
   "metadata": {},
   "outputs": [],
   "source": [
    "# Sumar los vectores usando +\n",
    "sum_vec = v * w\n",
    "\n",
    "print(v)  # Salida: Vector(4, 6)"
   ]
  },
  {
   "cell_type": "markdown",
   "id": "748606a2-6b28-4e10-a705-877495b9ca72",
   "metadata": {},
   "source": [
    "### Ejemplo 8 : Caso de análisis"
   ]
  },
  {
   "cell_type": "code",
   "execution_count": null,
   "id": "e8738ba0-c8b8-4470-98ba-e9e1064c2711",
   "metadata": {},
   "outputs": [],
   "source": [
    "class Vector:\n",
    "    def __init__(self, x, y):\n",
    "        self.x = x\n",
    "        self.y = y\n",
    "\n",
    "    def __add__(self, otro):\n",
    "        x = self.x + otro.x\n",
    "        y = self.y + otro.y\n",
    "        sum_vec = Vector(x, y)\n",
    "        return sum_vec\n",
    "\n",
    "    def __mul__(self, otro):\n",
    "        prod_escalar = self.x * otro.x + self.y * otro.y\n",
    "        return prod_escalar\n",
    "\n",
    "    def __repr__(self):\n",
    "        return f\"Vector({self.x}, {self.y})\""
   ]
  },
  {
   "cell_type": "code",
   "execution_count": null,
   "id": "910feb00-e669-4c23-91a0-04207579c13f",
   "metadata": {},
   "outputs": [],
   "source": [
    "# Crear dos vectores\n",
    "v = Vector(0, 1)\n",
    "w = Vector(1, 0)"
   ]
  },
  {
   "cell_type": "code",
   "execution_count": null,
   "id": "2e5b6ff8-f897-473b-9c78-768fe7927d72",
   "metadata": {},
   "outputs": [],
   "source": [
    "tmp = v * w\n",
    "\n",
    "print(tmp)  "
   ]
  }
 ],
 "metadata": {
  "kernelspec": {
   "display_name": "Python 3 (ipykernel)",
   "language": "python",
   "name": "python3"
  },
  "language_info": {
   "codemirror_mode": {
    "name": "ipython",
    "version": 3
   },
   "file_extension": ".py",
   "mimetype": "text/x-python",
   "name": "python",
   "nbconvert_exporter": "python",
   "pygments_lexer": "ipython3",
   "version": "3.12.7"
  }
 },
 "nbformat": 4,
 "nbformat_minor": 5
}
